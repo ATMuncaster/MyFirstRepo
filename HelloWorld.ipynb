{
 "cells": [
  {
   "cell_type": "code",
   "execution_count": 1,
   "id": "493561f9-fe30-4c6c-89bb-299cb6e85452",
   "metadata": {},
   "outputs": [
    {
     "name": "stdout",
     "output_type": "stream",
     "text": [
      "Hello, world!\n"
     ]
    }
   ],
   "source": [
    "print(\"Hello, world!\")"
   ]
  },
  {
   "cell_type": "markdown",
   "id": "8d8efabf-b5fc-4fe2-a436-10afe15fa871",
   "metadata": {},
   "source": [
    "# My First Markdown Heading"
   ]
  },
  {
   "cell_type": "markdown",
   "id": "f94af71c-c763-4b3f-8e43-fd09cef24f4e",
   "metadata": {},
   "source": [
    "## My Second Markdown Heading"
   ]
  },
  {
   "cell_type": "markdown",
   "id": "7b96c563-e49b-4b3c-899f-745811242d3f",
   "metadata": {},
   "source": [
    "This is some **bold** text"
   ]
  },
  {
   "cell_type": "markdown",
   "id": "45ef2cca-6c92-4725-bd7a-a73217292315",
   "metadata": {},
   "source": [
    "1. First item\n",
    "2. Second item\n",
    "3. Third item"
   ]
  },
  {
   "cell_type": "code",
   "execution_count": 4,
   "id": "dc4eea7a-e7a1-461e-8796-483f2a67a126",
   "metadata": {},
   "outputs": [],
   "source": [
    "my_var=5"
   ]
  },
  {
   "cell_type": "code",
   "execution_count": 5,
   "id": "d2756f11-be17-4b61-803e-3f3376e54ed6",
   "metadata": {},
   "outputs": [],
   "source": [
    "result=my_var*2"
   ]
  },
  {
   "cell_type": "code",
   "execution_count": 6,
   "id": "d40cde98-3e29-472d-ae49-e446355e00bf",
   "metadata": {},
   "outputs": [
    {
     "name": "stdout",
     "output_type": "stream",
     "text": [
      "10\n"
     ]
    }
   ],
   "source": [
    "print(result)"
   ]
  },
  {
   "cell_type": "code",
   "execution_count": null,
   "id": "2ceef0b7-cd97-4c7a-ae80-c7fc94d8c7bf",
   "metadata": {},
   "outputs": [],
   "source": []
  }
 ],
 "metadata": {
  "kernelspec": {
   "display_name": "Python 3 (ipykernel)",
   "language": "python",
   "name": "python3"
  },
  "language_info": {
   "codemirror_mode": {
    "name": "ipython",
    "version": 3
   },
   "file_extension": ".py",
   "mimetype": "text/x-python",
   "name": "python",
   "nbconvert_exporter": "python",
   "pygments_lexer": "ipython3",
   "version": "3.10.9"
  }
 },
 "nbformat": 4,
 "nbformat_minor": 5
}
